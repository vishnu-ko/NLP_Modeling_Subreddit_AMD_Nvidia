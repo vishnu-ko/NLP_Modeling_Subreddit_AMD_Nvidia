{
 "cells": [
  {
   "cell_type": "markdown",
   "id": "4f06f904",
   "metadata": {},
   "source": [
    "## Imports"
   ]
  },
  {
   "cell_type": "code",
   "execution_count": 3,
   "id": "61bb59af",
   "metadata": {},
   "outputs": [],
   "source": [
    "import requests\n",
    "import pandas as pd\n",
    "import time\n",
    "import numpy as np\n",
    "import matplotlib.pyplot as plt\n",
    "import seaborn as sns\n",
    "import re\n",
    "\n",
    "from nltk.corpus import stopwords\n",
    "from nltk.stem import WordNetLemmatizer\n",
    "from nltk.stem.porter import PorterStemmer\n",
    "from nltk.tokenize import sent_tokenize, word_tokenize, RegexpTokenizer\n",
    "\n",
    "from sklearn.feature_extraction.text import CountVectorizer, TfidfVectorizer\n",
    "\n",
    "from sklearn.model_selection import train_test_split, GridSearchCV, cross_val_score\n",
    "from sklearn.pipeline import Pipeline\n",
    "\n",
    "from sklearn.metrics import confusion_matrix, plot_confusion_matrix, ConfusionMatrixDisplay\n",
    "\n",
    "\n",
    "from sklearn.ensemble import RandomForestClassifier\n",
    "from sklearn.tree import DecisionTreeClassifier\n",
    "from sklearn.linear_model import LogisticRegression"
   ]
  },
  {
   "cell_type": "markdown",
   "id": "8fe38976",
   "metadata": {},
   "source": [
    "I made a function below to allow me to connect the API and get the subreddit from reddit. I had two arguments in my function, subreddit is the subreddit that I'm interested in looking into and the before is the time period of the posts. I will add comments on top of each line of code to further explain what each line is looking at."
   ]
  },
  {
   "cell_type": "code",
   "execution_count": 4,
   "id": "65c6f852",
   "metadata": {},
   "outputs": [],
   "source": [
    "# function was created for the API\n",
    "def redd_post(subreddit, before):\n",
    "    # This is the link for the api pushshift\n",
    "    subreddit_url = 'https://api.pushshift.io/reddit/search/submission?'\n",
    "    # I just made sure that the before in which the number being pulled is for sure an int\n",
    "    temp_bef = int(before)\n",
    "    # I made parameters which include the subreddit i want, the number of posts I want to get out and the time period \n",
    "    #of the post\n",
    "    params = {\n",
    "    'subreddit': subreddit,\n",
    "    'size': 100,\n",
    "    'before': temp_bef,\n",
    "    }\n",
    "    # I made an open list as a variable\n",
    "    resu = []\n",
    "    # The fields are columns that I'm interested in looking at\n",
    "    fields = 'subreddit,id,title,author,created_utc,selftext,is_self'\n",
    "    # The forloop to be able to get more than 50 posts or how many I want.\n",
    "    for i in range(50):\n",
    "        #I hardcoded so that the subreddit, fields, and before are included in the url.\n",
    "        res = requests.get(subreddit_url+\"subreddit=\"+subreddit+\"&fields=\"+fields+\"&size=100\"+'&before='+str(temp_bef))\n",
    "        # make sure I get a 200 so I can retrieve the post.\n",
    "        res.status_code\n",
    "        # I made it into a json file and put it as a variable\n",
    "        data = res.json()\n",
    "        # I made a new variable name for the data\n",
    "        posts = data['data']\n",
    "        # 1 wanted to add the new posts to the listing variable resu \n",
    "        resu = resu + posts \n",
    "        # I made the time every other day since the unix epoch converter number started\n",
    "        temp_bef = temp_bef-1440\n",
    "        # To allow for some grace period I put time sleep\n",
    "        time.sleep(2)\n",
    "        # I made a dataframe of the list of resu. \n",
    "    return pd.DataFrame(resu)     \n",
    "\n",
    "# Help from Rowan and Gabe"
   ]
  },
  {
   "cell_type": "markdown",
   "id": "cabc3f28",
   "metadata": {},
   "source": [
    "I chose the unix time that was provided when I was doing API push and thought I should go with the numbers that were provided for each of the data"
   ]
  },
  {
   "cell_type": "code",
   "execution_count": 5,
   "id": "c5daf948",
   "metadata": {},
   "outputs": [],
   "source": [
    "nvidia_df = redd_post('Nvidia', 1664331212)\n",
    "amd_df = redd_post('AMD',1664494998)"
   ]
  },
  {
   "cell_type": "markdown",
   "id": "04c52b49",
   "metadata": {},
   "source": [
    "## Data Cleaning/EDA Analysis"
   ]
  },
  {
   "cell_type": "markdown",
   "id": "9726c331",
   "metadata": {},
   "source": [
    "I began by saving the csv files to the dataset folders"
   ]
  },
  {
   "cell_type": "code",
   "execution_count": 6,
   "id": "6881abf1",
   "metadata": {},
   "outputs": [],
   "source": [
    "amd_df.to_csv('./Datasets/amd.csv', index = False)\n",
    "nvidia_df.to_csv('./Datasets/nvidia.csv', index = False)"
   ]
  },
  {
   "cell_type": "code",
   "execution_count": 7,
   "id": "c4dac7f6",
   "metadata": {},
   "outputs": [
    {
     "data": {
      "text/html": [
       "<div>\n",
       "<style scoped>\n",
       "    .dataframe tbody tr th:only-of-type {\n",
       "        vertical-align: middle;\n",
       "    }\n",
       "\n",
       "    .dataframe tbody tr th {\n",
       "        vertical-align: top;\n",
       "    }\n",
       "\n",
       "    .dataframe thead th {\n",
       "        text-align: right;\n",
       "    }\n",
       "</style>\n",
       "<table border=\"1\" class=\"dataframe\">\n",
       "  <thead>\n",
       "    <tr style=\"text-align: right;\">\n",
       "      <th></th>\n",
       "      <th>author</th>\n",
       "      <th>created_utc</th>\n",
       "      <th>id</th>\n",
       "      <th>is_self</th>\n",
       "      <th>selftext</th>\n",
       "      <th>subreddit</th>\n",
       "      <th>title</th>\n",
       "    </tr>\n",
       "  </thead>\n",
       "  <tbody>\n",
       "    <tr>\n",
       "      <th>0</th>\n",
       "      <td>DefiantAbalone1</td>\n",
       "      <td>1664494156</td>\n",
       "      <td>xrm8vu</td>\n",
       "      <td>True</td>\n",
       "      <td>\\n\\n\\n\\n(Excerpted from: https://www.tomshardw...</td>\n",
       "      <td>Amd</td>\n",
       "      <td>A peekkind of performance potential Zen 5 FPGA...</td>\n",
       "    </tr>\n",
       "    <tr>\n",
       "      <th>1</th>\n",
       "      <td>Gramzzzz</td>\n",
       "      <td>1664494016</td>\n",
       "      <td>xrm71w</td>\n",
       "      <td>True</td>\n",
       "      <td>Ok I know this shit sucks. I have a recommenda...</td>\n",
       "      <td>Amd</td>\n",
       "      <td>X670 memory sticker</td>\n",
       "    </tr>\n",
       "    <tr>\n",
       "      <th>2</th>\n",
       "      <td>dvcspl</td>\n",
       "      <td>1664493812</td>\n",
       "      <td>xrm4et</td>\n",
       "      <td>True</td>\n",
       "      <td>Just upgraded today to 7900X/X670E Crosshair/G...</td>\n",
       "      <td>Amd</td>\n",
       "      <td>Holy long boot time.. 7900X</td>\n",
       "    </tr>\n",
       "    <tr>\n",
       "      <th>3</th>\n",
       "      <td>gamagama420</td>\n",
       "      <td>1664493071</td>\n",
       "      <td>xrluvh</td>\n",
       "      <td>True</td>\n",
       "      <td>if you uploaded it on yt youd probably get a d...</td>\n",
       "      <td>Amd</td>\n",
       "      <td>can someone with a zen 4 cpu run some rcps3 be...</td>\n",
       "    </tr>\n",
       "    <tr>\n",
       "      <th>4</th>\n",
       "      <td>Psythik</td>\n",
       "      <td>1664491907</td>\n",
       "      <td>xrlfqd</td>\n",
       "      <td>False</td>\n",
       "      <td></td>\n",
       "      <td>Amd</td>\n",
       "      <td>I can confirm that there is no stupid sticker ...</td>\n",
       "    </tr>\n",
       "    <tr>\n",
       "      <th>...</th>\n",
       "      <td>...</td>\n",
       "      <td>...</td>\n",
       "      <td>...</td>\n",
       "      <td>...</td>\n",
       "      <td>...</td>\n",
       "      <td>...</td>\n",
       "      <td>...</td>\n",
       "    </tr>\n",
       "    <tr>\n",
       "      <th>4995</th>\n",
       "      <td>royalambiance</td>\n",
       "      <td>1664358201</td>\n",
       "      <td>xq88ze</td>\n",
       "      <td>False</td>\n",
       "      <td></td>\n",
       "      <td>Amd</td>\n",
       "      <td>Consultancy and Project Management</td>\n",
       "    </tr>\n",
       "    <tr>\n",
       "      <th>4996</th>\n",
       "      <td>SpigettiSpiggooty</td>\n",
       "      <td>1664357642</td>\n",
       "      <td>xq83ag</td>\n",
       "      <td>True</td>\n",
       "      <td>Disclosure: This is my first post here and on ...</td>\n",
       "      <td>Amd</td>\n",
       "      <td>I'm trying to decide possible upgrade paths fo...</td>\n",
       "    </tr>\n",
       "    <tr>\n",
       "      <th>4997</th>\n",
       "      <td>royalambiance</td>\n",
       "      <td>1664357597</td>\n",
       "      <td>xq82ti</td>\n",
       "      <td>False</td>\n",
       "      <td></td>\n",
       "      <td>Amd</td>\n",
       "      <td>Interior Design</td>\n",
       "    </tr>\n",
       "    <tr>\n",
       "      <th>4998</th>\n",
       "      <td>Neeville1</td>\n",
       "      <td>1664357356</td>\n",
       "      <td>xq8034</td>\n",
       "      <td>True</td>\n",
       "      <td>[removed]</td>\n",
       "      <td>Amd</td>\n",
       "      <td>Intel adding more cores and threads is funny</td>\n",
       "    </tr>\n",
       "    <tr>\n",
       "      <th>4999</th>\n",
       "      <td>NormandySa</td>\n",
       "      <td>1664357345</td>\n",
       "      <td>xq7zz1</td>\n",
       "      <td>True</td>\n",
       "      <td>Hi, so for the last 4 months or so I started b...</td>\n",
       "      <td>Amd</td>\n",
       "      <td>Is it worth it to buy an AMD RX 6800 XT Around...</td>\n",
       "    </tr>\n",
       "  </tbody>\n",
       "</table>\n",
       "<p>5000 rows × 7 columns</p>\n",
       "</div>"
      ],
      "text/plain": [
       "                 author  created_utc      id  is_self  \\\n",
       "0       DefiantAbalone1   1664494156  xrm8vu     True   \n",
       "1              Gramzzzz   1664494016  xrm71w     True   \n",
       "2                dvcspl   1664493812  xrm4et     True   \n",
       "3           gamagama420   1664493071  xrluvh     True   \n",
       "4               Psythik   1664491907  xrlfqd    False   \n",
       "...                 ...          ...     ...      ...   \n",
       "4995      royalambiance   1664358201  xq88ze    False   \n",
       "4996  SpigettiSpiggooty   1664357642  xq83ag     True   \n",
       "4997      royalambiance   1664357597  xq82ti    False   \n",
       "4998          Neeville1   1664357356  xq8034     True   \n",
       "4999         NormandySa   1664357345  xq7zz1     True   \n",
       "\n",
       "                                               selftext subreddit  \\\n",
       "0     \\n\\n\\n\\n(Excerpted from: https://www.tomshardw...       Amd   \n",
       "1     Ok I know this shit sucks. I have a recommenda...       Amd   \n",
       "2     Just upgraded today to 7900X/X670E Crosshair/G...       Amd   \n",
       "3     if you uploaded it on yt youd probably get a d...       Amd   \n",
       "4                                                             Amd   \n",
       "...                                                 ...       ...   \n",
       "4995                                                          Amd   \n",
       "4996  Disclosure: This is my first post here and on ...       Amd   \n",
       "4997                                                          Amd   \n",
       "4998                                          [removed]       Amd   \n",
       "4999  Hi, so for the last 4 months or so I started b...       Amd   \n",
       "\n",
       "                                                  title  \n",
       "0     A peekkind of performance potential Zen 5 FPGA...  \n",
       "1                                   X670 memory sticker  \n",
       "2                           Holy long boot time.. 7900X  \n",
       "3     can someone with a zen 4 cpu run some rcps3 be...  \n",
       "4     I can confirm that there is no stupid sticker ...  \n",
       "...                                                 ...  \n",
       "4995                 Consultancy and Project Management  \n",
       "4996  I'm trying to decide possible upgrade paths fo...  \n",
       "4997                                    Interior Design  \n",
       "4998       Intel adding more cores and threads is funny  \n",
       "4999  Is it worth it to buy an AMD RX 6800 XT Around...  \n",
       "\n",
       "[5000 rows x 7 columns]"
      ]
     },
     "execution_count": 7,
     "metadata": {},
     "output_type": "execute_result"
    }
   ],
   "source": [
    "amd_df"
   ]
  },
  {
   "cell_type": "markdown",
   "id": "76c830c8",
   "metadata": {},
   "source": [
    "I then concatenated the two files together to make one larger file"
   ]
  },
  {
   "cell_type": "code",
   "execution_count": 8,
   "id": "e228ac81",
   "metadata": {},
   "outputs": [],
   "source": [
    "nvidia_amd = pd.concat([nvidia_df, amd_df])"
   ]
  },
  {
   "cell_type": "markdown",
   "id": "b1d772c3",
   "metadata": {},
   "source": [
    "I saved the new file to the datasets folder"
   ]
  },
  {
   "cell_type": "code",
   "execution_count": 9,
   "id": "f25e783e",
   "metadata": {},
   "outputs": [],
   "source": [
    "nvidia_amd.to_csv('./Datasets/combined_dataframe.csv')"
   ]
  },
  {
   "cell_type": "markdown",
   "id": "c714b981",
   "metadata": {},
   "source": [
    "I began by making sure the columns are lowercase. "
   ]
  },
  {
   "cell_type": "code",
   "execution_count": 10,
   "id": "aca7a970",
   "metadata": {},
   "outputs": [],
   "source": [
    "nvidia_amd['title'] = nvidia_amd['title'].str.lower()\n",
    "nvidia_amd['selftext'] = nvidia_amd['selftext'].str.lower()"
   ]
  },
  {
   "cell_type": "markdown",
   "id": "49963470",
   "metadata": {},
   "source": [
    "I then went on to look at the null values for each of the columns to see if there were any. I only checked the concantenated file because I will be using this file throughout the entire project. As we can see, there were 23 selftexts that had null values. When comparing that to the 5000 rows that are in the dataset, this is less than 5% of the entire data"
   ]
  },
  {
   "cell_type": "code",
   "execution_count": 11,
   "id": "23ee209a",
   "metadata": {},
   "outputs": [
    {
     "data": {
      "text/plain": [
       "author          0\n",
       "created_utc     0\n",
       "id              0\n",
       "is_self         0\n",
       "selftext       23\n",
       "subreddit       0\n",
       "title           0\n",
       "dtype: int64"
      ]
     },
     "execution_count": 11,
     "metadata": {},
     "output_type": "execute_result"
    }
   ],
   "source": [
    "nvidia_amd.isnull().sum()"
   ]
  },
  {
   "cell_type": "markdown",
   "id": "18c328a2",
   "metadata": {},
   "source": [
    "To make sure the data is cleane and has information that is relevant. I first began looking at the title and wanted to get rid of rows that had [removed], if there are any rows in the title and selftext columns that just have a space, and then looking at notnull values as well. "
   ]
  },
  {
   "cell_type": "code",
   "execution_count": 12,
   "id": "59c27086",
   "metadata": {},
   "outputs": [],
   "source": [
    "nvidia_amd = nvidia_amd[(nvidia_amd['title'].notnull()) & (len(nvidia_amd['title'].str.strip()) > 0) & (nvidia_amd['title'] != '[removed]')]\n",
    "nvidia_amd = nvidia_amd[(nvidia_amd['selftext'].notnull()) & (len(nvidia_amd['selftext'].str.strip()) > 0) & (nvidia_amd['selftext'] != '[removed]')] \n",
    "# Help from Gabe"
   ]
  },
  {
   "cell_type": "markdown",
   "id": "3d7de975",
   "metadata": {},
   "source": [
    "As we can see, all the null values are gone for all the columns"
   ]
  },
  {
   "cell_type": "code",
   "execution_count": 13,
   "id": "5470e439",
   "metadata": {
    "scrolled": true
   },
   "outputs": [
    {
     "data": {
      "text/plain": [
       "author         0\n",
       "created_utc    0\n",
       "id             0\n",
       "is_self        0\n",
       "selftext       0\n",
       "subreddit      0\n",
       "title          0\n",
       "dtype: int64"
      ]
     },
     "execution_count": 13,
     "metadata": {},
     "output_type": "execute_result"
    }
   ],
   "source": [
    "nvidia_amd.isnull().sum()"
   ]
  },
  {
   "cell_type": "markdown",
   "id": "47cb738c",
   "metadata": {},
   "source": [
    "When looking at some of the columns, they had punctuations that include ? and many others. My main goal is to separate the reddit posts to the right subreddit, so I though they weren't necessary. I used regex to remove the puntuations"
   ]
  },
  {
   "cell_type": "code",
   "execution_count": 14,
   "id": "10f2bb38",
   "metadata": {},
   "outputs": [],
   "source": [
    "nvidia_amd['title'] = nvidia_amd['title'].map(lambda x :re.sub(r'[^\\w\\s]','',x))\n",
    "nvidia_amd['selftext'] = nvidia_amd['selftext'].map(lambda x :re.sub(r'[^\\w\\s]','',x))"
   ]
  },
  {
   "cell_type": "markdown",
   "id": "f4aa3196",
   "metadata": {},
   "source": [
    "I made a new column in which I combined both the title and selftext columns. "
   ]
  },
  {
   "cell_type": "code",
   "execution_count": 15,
   "id": "cb237b36",
   "metadata": {},
   "outputs": [],
   "source": [
    "nvidia_amd['title&self_text'] = nvidia_amd['title'] + ' ' + nvidia_amd['selftext']\n",
    "# help from Devin"
   ]
  },
  {
   "cell_type": "markdown",
   "id": "fa38e783",
   "metadata": {},
   "source": [
    "Now, I began to look at the length and word count of the titles and selftext combined together and made two new columns. "
   ]
  },
  {
   "cell_type": "code",
   "execution_count": 16,
   "id": "9ae7ba7b",
   "metadata": {},
   "outputs": [],
   "source": [
    "nvidia_amd['title&selftext_length'] = nvidia_amd['title&self_text'].map(len)\n",
    "nvidia_amd['title&selftext_word_count'] = nvidia_amd['title&self_text'].str.split().str.len()\n"
   ]
  },
  {
   "cell_type": "markdown",
   "id": "938352c9",
   "metadata": {},
   "source": [
    "I then wanted to see the mean, median, and average for the numerical columns that include, title_length and title_word_count. From what we can see, title_length and title_word_count might be looked at further due to the fact that the mean and the max numbers have a wide disparity. I wanted to look further into by plotting the title length and title word count."
   ]
  },
  {
   "cell_type": "code",
   "execution_count": 17,
   "id": "d329b1c4",
   "metadata": {
    "scrolled": false
   },
   "outputs": [
    {
     "data": {
      "text/html": [
       "<div>\n",
       "<style scoped>\n",
       "    .dataframe tbody tr th:only-of-type {\n",
       "        vertical-align: middle;\n",
       "    }\n",
       "\n",
       "    .dataframe tbody tr th {\n",
       "        vertical-align: top;\n",
       "    }\n",
       "\n",
       "    .dataframe thead th {\n",
       "        text-align: right;\n",
       "    }\n",
       "</style>\n",
       "<table border=\"1\" class=\"dataframe\">\n",
       "  <thead>\n",
       "    <tr style=\"text-align: right;\">\n",
       "      <th></th>\n",
       "      <th>created_utc</th>\n",
       "      <th>title&amp;selftext_length</th>\n",
       "      <th>title&amp;selftext_word_count</th>\n",
       "    </tr>\n",
       "  </thead>\n",
       "  <tbody>\n",
       "    <tr>\n",
       "      <th>count</th>\n",
       "      <td>7.498000e+03</td>\n",
       "      <td>7498.000000</td>\n",
       "      <td>7498.000000</td>\n",
       "    </tr>\n",
       "    <tr>\n",
       "      <th>mean</th>\n",
       "      <td>1.664318e+09</td>\n",
       "      <td>462.359162</td>\n",
       "      <td>79.689117</td>\n",
       "    </tr>\n",
       "    <tr>\n",
       "      <th>std</th>\n",
       "      <td>8.836732e+04</td>\n",
       "      <td>874.917666</td>\n",
       "      <td>135.881156</td>\n",
       "    </tr>\n",
       "    <tr>\n",
       "      <th>min</th>\n",
       "      <td>1.664167e+09</td>\n",
       "      <td>8.000000</td>\n",
       "      <td>1.000000</td>\n",
       "    </tr>\n",
       "    <tr>\n",
       "      <th>25%</th>\n",
       "      <td>1.664244e+09</td>\n",
       "      <td>77.000000</td>\n",
       "      <td>14.000000</td>\n",
       "    </tr>\n",
       "    <tr>\n",
       "      <th>50%</th>\n",
       "      <td>1.664290e+09</td>\n",
       "      <td>222.000000</td>\n",
       "      <td>39.000000</td>\n",
       "    </tr>\n",
       "    <tr>\n",
       "      <th>75%</th>\n",
       "      <td>1.664403e+09</td>\n",
       "      <td>501.000000</td>\n",
       "      <td>93.000000</td>\n",
       "    </tr>\n",
       "    <tr>\n",
       "      <th>max</th>\n",
       "      <td>1.664494e+09</td>\n",
       "      <td>7965.000000</td>\n",
       "      <td>1182.000000</td>\n",
       "    </tr>\n",
       "  </tbody>\n",
       "</table>\n",
       "</div>"
      ],
      "text/plain": [
       "        created_utc  title&selftext_length  title&selftext_word_count\n",
       "count  7.498000e+03            7498.000000                7498.000000\n",
       "mean   1.664318e+09             462.359162                  79.689117\n",
       "std    8.836732e+04             874.917666                 135.881156\n",
       "min    1.664167e+09               8.000000                   1.000000\n",
       "25%    1.664244e+09              77.000000                  14.000000\n",
       "50%    1.664290e+09             222.000000                  39.000000\n",
       "75%    1.664403e+09             501.000000                  93.000000\n",
       "max    1.664494e+09            7965.000000                1182.000000"
      ]
     },
     "execution_count": 17,
     "metadata": {},
     "output_type": "execute_result"
    }
   ],
   "source": [
    "nvidia_amd.describe()"
   ]
  },
  {
   "cell_type": "markdown",
   "id": "37305571",
   "metadata": {},
   "source": [
    "I then looked at the numbers for title length and saw the highest number was 7965 and the lowest number was 8."
   ]
  },
  {
   "cell_type": "code",
   "execution_count": 18,
   "id": "6b94a28f",
   "metadata": {
    "scrolled": true
   },
   "outputs": [
    {
     "data": {
      "text/plain": [
       "1818    7965\n",
       "938     7965\n",
       "2499    7965\n",
       "1036    7965\n",
       "1916    7965\n",
       "        ... \n",
       "3120       8\n",
       "482        8\n",
       "3904       8\n",
       "3706       8\n",
       "1167       8\n",
       "Name: title&selftext_length, Length: 7498, dtype: int64"
      ]
     },
     "execution_count": 18,
     "metadata": {},
     "output_type": "execute_result"
    }
   ],
   "source": [
    "nvidia_amd['title&selftext_length'].sort_values(ascending = False)\n",
    "#lab 5.02"
   ]
  },
  {
   "cell_type": "markdown",
   "id": "ec83b5a5",
   "metadata": {},
   "source": [
    "The graph looks into title and selftext length based off of character count. As presented, it can be seen that most of the data is surrounded between 0-2000 and then we have some outliers which are around 8,000. This graph looks at the combined subreddits. From it, we can see it is right skewed."
   ]
  },
  {
   "cell_type": "code",
   "execution_count": 19,
   "id": "6e9fd94d",
   "metadata": {},
   "outputs": [
    {
     "data": {
      "image/png": "[encoded data removed]",
      "text/plain": [
       "<Figure size 576x576 with 1 Axes>"
      ]
     },
     "metadata": {
      "needs_background": "light"
     },
     "output_type": "display_data"
    }
   ],
   "source": [
    "sns.displot(nvidia_amd['title&selftext_length'], kind = 'hist', bins = 100, height  = 8, aspect = 1);\n",
    "plt.title('title_length for Nvidia and Amd');"
   ]
  },
  {
   "cell_type": "markdown",
   "id": "eda9dfdb",
   "metadata": {},
   "source": [
    "To take a further look, I looked into the two reddits separately. I saw that nvidia seems more dense around the 0-1000 area compared to amd as well as it had the longest title and selft text length compared to amd. "
   ]
  },
  {
   "cell_type": "code",
   "execution_count": 2,
   "id": "28e10041",
   "metadata": {},
   "outputs": [
    {
     "ename": "NameError",
     "evalue": "name 'plt' is not defined",
     "output_type": "error",
     "traceback": [
      "\u001b[1;31m---------------------------------------------------------------------------\u001b[0m",
      "\u001b[1;31mNameError\u001b[0m                                 Traceback (most recent call last)",
      "Input \u001b[1;32mIn [2]\u001b[0m, in \u001b[0;36m<cell line: 1>\u001b[1;34m()\u001b[0m\n\u001b[1;32m----> 1\u001b[0m ax \u001b[38;5;241m=\u001b[39m \u001b[43mplt\u001b[49m\u001b[38;5;241m.\u001b[39msubplots(\u001b[38;5;241m3\u001b[39m, \u001b[38;5;241m1\u001b[39m, figsize \u001b[38;5;241m=\u001b[39m (\u001b[38;5;241m20\u001b[39m,\u001b[38;5;241m10\u001b[39m))\n\u001b[0;32m      2\u001b[0m sns\u001b[38;5;241m.\u001b[39mhistplot(data\u001b[38;5;241m=\u001b[39mnvidia_amd[nvidia_amd[\u001b[38;5;124m'\u001b[39m\u001b[38;5;124msubreddit\u001b[39m\u001b[38;5;124m'\u001b[39m] \u001b[38;5;241m==\u001b[39m \u001b[38;5;124m'\u001b[39m\u001b[38;5;124mnvidia\u001b[39m\u001b[38;5;124m'\u001b[39m], x\u001b[38;5;241m=\u001b[39m\u001b[38;5;124m'\u001b[39m\u001b[38;5;124mtitle&selftext_length\u001b[39m\u001b[38;5;124m'\u001b[39m, ax \u001b[38;5;241m=\u001b[39m ax[\u001b[38;5;241m0\u001b[39m])\n\u001b[0;32m      3\u001b[0m ax[\u001b[38;5;241m0\u001b[39m]\u001b[38;5;241m.\u001b[39mtitle\u001b[38;5;241m.\u001b[39mset_text(\u001b[38;5;124m'\u001b[39m\u001b[38;5;124mNvidia title and selftext length\u001b[39m\u001b[38;5;124m'\u001b[39m)\n",
      "\u001b[1;31mNameError\u001b[0m: name 'plt' is not defined"
     ]
    }
   ],
   "source": [
    "fig, ax = plt.subplots(ncols = 2, figsize = (20,10))\n",
    "sns.histplot(data=nvidia_amd[nvidia_amd['subreddit'] == 'nvidia'], x='title&selftext_length', ax = ax[0])\n",
    "ax[0].title.set_text('Nvidia title and selftext length')\n",
    "sns.histplot(data=nvidia_amd[nvidia_amd['subreddit'] == 'Amd'], x='title&selftext_length', ax = ax[1])\n",
    "ax[1].title.set_text('Amd title and selftext length')\n",
    "#help from Devin"
   ]
  },
  {
   "cell_type": "markdown",
   "id": "d6bbdb7d",
   "metadata": {},
   "source": [
    "To make the displot that compares the two subreddit together needed a reindex so I did that before plotting the graph."
   ]
  },
  {
   "cell_type": "code",
   "execution_count": 21,
   "id": "17fdf709",
   "metadata": {},
   "outputs": [],
   "source": [
    "nvidia_amd.index.is_unique\n",
    "nvidia_amd.reset_index(level=0, inplace=True)\n",
    "#https://www.folkstalk.com/2022/10/reindex-pandas-dataframe-from-0-with-code-examples.html#:~:text=Approach%20%3A%201%20Import%20the%20Pandas%20module.%202,method.%205%20Display%20the%20DataFrame%20after%20each%20step."
   ]
  },
  {
   "cell_type": "markdown",
   "id": "e6be66b8",
   "metadata": {},
   "source": [
    "This graph looks at both sets of subreddit together but compares the subreddit. As we can see, Amd was higher earlier on and then drops off, while when ot comes to Nvidia it was consistent and had the hight numbers."
   ]
  },
  {
   "cell_type": "code",
   "execution_count": 22,
   "id": "fe56cf96",
   "metadata": {
    "scrolled": false
   },
   "outputs": [
    {
     "data": {
      "image/png": "[encoded data removed]",
      "text/plain": [
       "<Figure size 1080x720 with 1 Axes>"
      ]
     },
     "metadata": {
      "needs_background": "light"
     },
     "output_type": "display_data"
    }
   ],
   "source": [
    "plt.figure(figsize = (15,10))\n",
    "sns.histplot(\n",
    "    nvidia_amd, x=\"title&selftext_length\", hue=\"subreddit\", element=\"step\", common_norm=False,\n",
    ")\n",
    "plt.title('The title and selftext length for Nvidia and Amd');\n",
    "#http://seaborn.pydata.org/generated/seaborn.histplot.html"
   ]
  },
  {
   "cell_type": "markdown",
   "id": "d50a731c",
   "metadata": {},
   "source": [
    "When it comes to the number of words in the title and selftext we see the highest word count is 1182 and the lowest word count is 1."
   ]
  },
  {
   "cell_type": "code",
   "execution_count": 23,
   "id": "2439cb78",
   "metadata": {
    "scrolled": true
   },
   "outputs": [
    {
     "data": {
      "text/plain": [
       "232     1182\n",
       "1862    1182\n",
       "3037    1182\n",
       "2948    1182\n",
       "2857    1182\n",
       "        ... \n",
       "6790       1\n",
       "4944       1\n",
       "5368       1\n",
       "6092       1\n",
       "4891       1\n",
       "Name: title&selftext_word_count, Length: 7498, dtype: int64"
      ]
     },
     "execution_count": 23,
     "metadata": {},
     "output_type": "execute_result"
    }
   ],
   "source": [
    "nvidia_amd['title&selftext_word_count'].sort_values(ascending = False)\n"
   ]
  },
  {
   "cell_type": "markdown",
   "id": "b645f6b4",
   "metadata": {},
   "source": [
    "The looks at the word count of the title and the selftext ofr both subreddits. This is also very right skewed with most of the numbers being around 0-200. We can see one outlier in the data around 1200. "
   ]
  },
  {
   "cell_type": "code",
   "execution_count": 24,
   "id": "b6c33365",
   "metadata": {},
   "outputs": [
    {
     "data": {
      "image/png": "[encoded data removed]",
      "text/plain": [
       "<Figure size 576x576 with 1 Axes>"
      ]
     },
     "metadata": {
      "needs_background": "light"
     },
     "output_type": "display_data"
    }
   ],
   "source": [
    "sns.displot(nvidia_amd['title&selftext_word_count'], kind = 'hist', bins = 100, height  = 8, aspect = 1)\n",
    "plt.title('title and selftext word count for Nvidia and Amd');\n"
   ]
  },
  {
   "cell_type": "markdown",
   "id": "b35ed8eb",
   "metadata": {},
   "source": [
    "I then looked at each of the subreddits separately and saw that nvidia had a wider range from 0-1200 while amd was 0-800. At the same time it can be seen that nvida is more dense around the 0-100 count compared to amd. "
   ]
  },
  {
   "cell_type": "code",
   "execution_count": 25,
   "id": "e0c0a34e",
   "metadata": {
    "scrolled": false
   },
   "outputs": [
    {
     "data": {
      "image/png": "[encoded data removed]",
      "text/plain": [
       "<Figure size 1440x720 with 2 Axes>"
      ]
     },
     "metadata": {
      "needs_background": "light"
     },
     "output_type": "display_data"
    }
   ],
   "source": [
    "fig, ax = plt.subplots(ncols = 2, figsize = (20,10))\n",
    "sns.histplot(data=nvidia_amd[nvidia_amd['subreddit'] == 'nvidia'], x='title&selftext_word_count', ax = ax[0])\n",
    "ax[0].title.set_text('Word Count for Title and Selftext for Nvidia')\n",
    "sns.histplot(data=nvidia_amd[nvidia_amd['subreddit'] == 'Amd'], x='title&selftext_word_count', ax = ax[1]);\n",
    "ax[1].title.set_text('Word Count for Title and Selftext for Amd')"
   ]
  },
  {
   "cell_type": "markdown",
   "id": "e7b740f9",
   "metadata": {},
   "source": [
    "Ths graph looks at the combined data for both subreddits and it shows that amd had the highest number of word count when it came to around the 0-100 area compared to nvidia. "
   ]
  },
  {
   "cell_type": "code",
   "execution_count": 26,
   "id": "2d0888c4",
   "metadata": {
    "scrolled": true
   },
   "outputs": [
    {
     "data": {
      "image/png": "[encoded data removed]",
      "text/plain": [
       "<Figure size 1080x720 with 1 Axes>"
      ]
     },
     "metadata": {
      "needs_background": "light"
     },
     "output_type": "display_data"
    }
   ],
   "source": [
    "plt.figure(figsize = (15,10))\n",
    "sns.histplot(nvidia_amd, x=\"title&selftext_word_count\", hue=\"subreddit\", element=\"step\", common_norm=False)\n",
    "plt.title('The title and selftext word count for Nvidia and Amd');\n",
    "#http://seaborn.pydata.org/generated/seaborn.histplot.html"
   ]
  },
  {
   "cell_type": "markdown",
   "id": "f6a65a95",
   "metadata": {},
   "source": [
    "I then wanted to look at the number of unique authors from the entire dataset and saw that there were only 256 unique authors for the 10,000 posts that were looked at. That seems to be a really small number when it comes to acitivty on the two subreddits"
   ]
  },
  {
   "cell_type": "code",
   "execution_count": 27,
   "id": "caabcaba",
   "metadata": {
    "scrolled": true
   },
   "outputs": [
    {
     "data": {
      "text/plain": [
       "256"
      ]
     },
     "execution_count": 27,
     "metadata": {},
     "output_type": "execute_result"
    }
   ],
   "source": [
    "len(nvidia_amd['author'].unique())\n"
   ]
  },
  {
   "cell_type": "markdown",
   "id": "0c2e572c",
   "metadata": {},
   "source": [
    "The average number of posts by each author seems to be around 30 title posts. "
   ]
  },
  {
   "cell_type": "code",
   "execution_count": 28,
   "id": "5988c800",
   "metadata": {
    "scrolled": true
   },
   "outputs": [
    {
     "data": {
      "text/plain": [
       "29.2890625"
      ]
     },
     "execution_count": 28,
     "metadata": {},
     "output_type": "execute_result"
    }
   ],
   "source": [
    "nvidia_amd.groupby('author')['title'].count().mean()\n"
   ]
  },
  {
   "cell_type": "code",
   "execution_count": 29,
   "id": "669ff0f7",
   "metadata": {
    "scrolled": false
   },
   "outputs": [
    {
     "data": {
      "text/html": [
       "<div>\n",
       "<style scoped>\n",
       "    .dataframe tbody tr th:only-of-type {\n",
       "        vertical-align: middle;\n",
       "    }\n",
       "\n",
       "    .dataframe tbody tr th {\n",
       "        vertical-align: top;\n",
       "    }\n",
       "\n",
       "    .dataframe thead th {\n",
       "        text-align: right;\n",
       "    }\n",
       "</style>\n",
       "<table border=\"1\" class=\"dataframe\">\n",
       "  <thead>\n",
       "    <tr style=\"text-align: right;\">\n",
       "      <th></th>\n",
       "      <th>index</th>\n",
       "      <th>created_utc</th>\n",
       "      <th>is_self</th>\n",
       "      <th>title&amp;selftext_length</th>\n",
       "      <th>title&amp;selftext_word_count</th>\n",
       "    </tr>\n",
       "  </thead>\n",
       "  <tbody>\n",
       "    <tr>\n",
       "      <th>index</th>\n",
       "      <td>1.000000</td>\n",
       "      <td>-0.233475</td>\n",
       "      <td>0.001362</td>\n",
       "      <td>0.007830</td>\n",
       "      <td>0.007634</td>\n",
       "    </tr>\n",
       "    <tr>\n",
       "      <th>created_utc</th>\n",
       "      <td>-0.233475</td>\n",
       "      <td>1.000000</td>\n",
       "      <td>-0.273096</td>\n",
       "      <td>-0.077552</td>\n",
       "      <td>-0.086420</td>\n",
       "    </tr>\n",
       "    <tr>\n",
       "      <th>is_self</th>\n",
       "      <td>0.001362</td>\n",
       "      <td>-0.273096</td>\n",
       "      <td>1.000000</td>\n",
       "      <td>0.326811</td>\n",
       "      <td>0.358922</td>\n",
       "    </tr>\n",
       "    <tr>\n",
       "      <th>title&amp;selftext_length</th>\n",
       "      <td>0.007830</td>\n",
       "      <td>-0.077552</td>\n",
       "      <td>0.326811</td>\n",
       "      <td>1.000000</td>\n",
       "      <td>0.991330</td>\n",
       "    </tr>\n",
       "    <tr>\n",
       "      <th>title&amp;selftext_word_count</th>\n",
       "      <td>0.007634</td>\n",
       "      <td>-0.086420</td>\n",
       "      <td>0.358922</td>\n",
       "      <td>0.991330</td>\n",
       "      <td>1.000000</td>\n",
       "    </tr>\n",
       "  </tbody>\n",
       "</table>\n",
       "</div>"
      ],
      "text/plain": [
       "                              index  created_utc   is_self  \\\n",
       "index                      1.000000    -0.233475  0.001362   \n",
       "created_utc               -0.233475     1.000000 -0.273096   \n",
       "is_self                    0.001362    -0.273096  1.000000   \n",
       "title&selftext_length      0.007830    -0.077552  0.326811   \n",
       "title&selftext_word_count  0.007634    -0.086420  0.358922   \n",
       "\n",
       "                           title&selftext_length  title&selftext_word_count  \n",
       "index                                   0.007830                   0.007634  \n",
       "created_utc                            -0.077552                  -0.086420  \n",
       "is_self                                 0.326811                   0.358922  \n",
       "title&selftext_length                   1.000000                   0.991330  \n",
       "title&selftext_word_count               0.991330                   1.000000  "
      ]
     },
     "execution_count": 29,
     "metadata": {},
     "output_type": "execute_result"
    }
   ],
   "source": [
    "nvidia_amd.corr()"
   ]
  },
  {
   "cell_type": "markdown",
   "id": "3ccb32b2",
   "metadata": {},
   "source": [
    "The heatmap looks at the correlation numbers and it can be seen that title length and title word count are both around 0.99 which is a high correlation compared too all the other categories. "
   ]
  },
  {
   "cell_type": "code",
   "execution_count": 30,
   "id": "a7823150",
   "metadata": {
    "scrolled": false
   },
   "outputs": [
    {
     "data": {
      "image/png": "[encoded data removed]",
      "text/plain": [
       "<Figure size 432x288 with 2 Axes>"
      ]
     },
     "metadata": {
      "needs_background": "light"
     },
     "output_type": "display_data"
    }
   ],
   "source": [
    "sns.heatmap(nvidia_amd.corr(), annot = True);"
   ]
  },
  {
   "cell_type": "markdown",
   "id": "6b4ac913",
   "metadata": {},
   "source": [
    "### EDA Analysis: \n",
    "After cleaning up the data and looking at the multiple histograms and correlation pots, I will be able to answer the problem statement. This is due to the fact that I'm able to believe with the cleaning that was done, it will be able to distinguish without having unnecessary noise. WHen it comes to the outliers, I will keep them due to the fact that they have content that will help in dinstinguishing the data as well. Overall, after comparing the data, I believe I can answer the problem statement present and help reddit. "
   ]
  },
  {
   "cell_type": "markdown",
   "id": "a52a251b",
   "metadata": {},
   "source": [
    "## Preprocessing and Modeling"
   ]
  },
  {
   "cell_type": "markdown",
   "id": "18b48425",
   "metadata": {},
   "source": [
    "### Lematizer"
   ]
  },
  {
   "cell_type": "markdown",
   "id": "5ab6c91c",
   "metadata": {},
   "source": [
    "When it came with the preprocessing, I began by Lemmatizing the title and selftext columns with the regex token. "
   ]
  },
  {
   "cell_type": "code",
   "execution_count": 31,
   "id": "57ec04aa",
   "metadata": {},
   "outputs": [],
   "source": [
    "i_tokenizer = RegexpTokenizer(r'\\w+')\n",
    "nvidia_amd['clean_title'] = nvidia_amd['title&self_text'].transform(i_tokenizer.tokenize)\n",
    "#lesson notes"
   ]
  },
  {
   "cell_type": "markdown",
   "id": "f7dbc680",
   "metadata": {},
   "source": [
    "I instantiated the Lemmatizer that I'm interested in looking at. "
   ]
  },
  {
   "cell_type": "code",
   "execution_count": 32,
   "id": "e3c474b8",
   "metadata": {},
   "outputs": [],
   "source": [
    "lemmatizer = WordNetLemmatizer()"
   ]
  },
  {
   "cell_type": "markdown",
   "id": "f06532fc",
   "metadata": {},
   "source": [
    "I created a function in which I lemmatized the title and self content and made sure to join them together without being in a list form. I made a new columns for the lemmatized words and named it lemmatized. "
   ]
  },
  {
   "cell_type": "code",
   "execution_count": 33,
   "id": "81d8ac3b",
   "metadata": {},
   "outputs": [],
   "source": [
    "def lem(text):\n",
    "    return \" \".join([lemmatizer.lemmatize(i) for i in  i_tokenizer.tokenize(text)])\n",
    "nvidia_amd['lemmatized'] = nvidia_amd['title&self_text'].apply(lem)\n",
    "# help from rowan"
   ]
  },
  {
   "cell_type": "markdown",
   "id": "9076eb70",
   "metadata": {},
   "source": [
    "### Stemmer"
   ]
  },
  {
   "cell_type": "markdown",
   "id": "9baef9d9",
   "metadata": {},
   "source": [
    "I instantied the stemmer that I would like to use as well. "
   ]
  },
  {
   "cell_type": "code",
   "execution_count": 34,
   "id": "9f77e927",
   "metadata": {},
   "outputs": [],
   "source": [
    "stemmer = PorterStemmer()"
   ]
  },
  {
   "cell_type": "markdown",
   "id": "31e56c81",
   "metadata": {},
   "source": [
    "I created a function in which I stemmed the title and self content and made sure to join them together without being in a list form. I made a new columns for the stemmed words and named it stemmed. "
   ]
  },
  {
   "cell_type": "code",
   "execution_count": 35,
   "id": "77bb6fda",
   "metadata": {},
   "outputs": [],
   "source": [
    "def port(stem):\n",
    "    return \" \".join([stemmer.stem(i) for i in  i_tokenizer.tokenize(stem)])\n",
    "nvidia_amd['stemmed'] = nvidia_amd['title&self_text'].apply(port)\n",
    "# help from rowan"
   ]
  },
  {
   "cell_type": "markdown",
   "id": "25be016d",
   "metadata": {},
   "source": [
    "### Stopwords"
   ]
  },
  {
   "cell_type": "markdown",
   "id": "b3a49ffa",
   "metadata": {},
   "source": [
    "I then made a list of stop words that I saw that were used a lot in both groups and removed them from the data because they have no relevant importance to the two subreddits"
   ]
  },
  {
   "cell_type": "code",
   "execution_count": 36,
   "id": "2e6c255c",
   "metadata": {},
   "outputs": [],
   "source": [
    "newStopWords = ['like', 'wa','im', 'just', 'new', 'ha', 'would', 'need', 'vs', 'help', 'nvidia', 'amd']\n",
    "\n",
    "stop_words = stopwords.words('english')\n",
    "\n",
    "stop_words.extend(newStopWords)\n",
    "#https://stackoverflow.com/questions/5511708/adding-words-to-nltk-stoplist#:~:text=You%20can%20simply%20use%20the%20append%20method%20to,words%2C%20as%20suggested%20by%20Charlie%20on%20the%20comments."
   ]
  },
  {
   "cell_type": "markdown",
   "id": "3b67670d",
   "metadata": {},
   "source": [
    "I made sure the new list of stop words were added in "
   ]
  },
  {
   "cell_type": "code",
   "execution_count": 37,
   "id": "c7638f37",
   "metadata": {
    "scrolled": false
   },
   "outputs": [
    {
     "name": "stdout",
     "output_type": "stream",
     "text": [
      "['i', 'me', 'my', 'myself', 'we', 'our', 'ours', 'ourselves', 'you', \"you're\", \"you've\", \"you'll\", \"you'd\", 'your', 'yours', 'yourself', 'yourselves', 'he', 'him', 'his', 'himself', 'she', \"she's\", 'her', 'hers', 'herself', 'it', \"it's\", 'its', 'itself', 'they', 'them', 'their', 'theirs', 'themselves', 'what', 'which', 'who', 'whom', 'this', 'that', \"that'll\", 'these', 'those', 'am', 'is', 'are', 'was', 'were', 'be', 'been', 'being', 'have', 'has', 'had', 'having', 'do', 'does', 'did', 'doing', 'a', 'an', 'the', 'and', 'but', 'if', 'or', 'because', 'as', 'until', 'while', 'of', 'at', 'by', 'for', 'with', 'about', 'against', 'between', 'into', 'through', 'during', 'before', 'after', 'above', 'below', 'to', 'from', 'up', 'down', 'in', 'out', 'on', 'off', 'over', 'under', 'again', 'further', 'then', 'once', 'here', 'there', 'when', 'where', 'why', 'how', 'all', 'any', 'both', 'each', 'few', 'more', 'most', 'other', 'some', 'such', 'no', 'nor', 'not', 'only', 'own', 'same', 'so', 'than', 'too', 'very', 's', 't', 'can', 'will', 'just', 'don', \"don't\", 'should', \"should've\", 'now', 'd', 'll', 'm', 'o', 're', 've', 'y', 'ain', 'aren', \"aren't\", 'couldn', \"couldn't\", 'didn', \"didn't\", 'doesn', \"doesn't\", 'hadn', \"hadn't\", 'hasn', \"hasn't\", 'haven', \"haven't\", 'isn', \"isn't\", 'ma', 'mightn', \"mightn't\", 'mustn', \"mustn't\", 'needn', \"needn't\", 'shan', \"shan't\", 'shouldn', \"shouldn't\", 'wasn', \"wasn't\", 'weren', \"weren't\", 'won', \"won't\", 'wouldn', \"wouldn't\", 'like', 'wa', 'im', 'just', 'new', 'ha', 'would', 'need', 'vs', 'help', 'nvidia', 'amd']\n"
     ]
    }
   ],
   "source": [
    "print(stop_words)"
   ]
  },
  {
   "cell_type": "markdown",
   "id": "31b28c7d",
   "metadata": {},
   "source": [
    "### Preprocessing Analysis:\n",
    "After doing the lemmatization and stemmation and looking at both of the columns, I felt that Lemmatization used the right words when it came to explaining the ideas or the conversations in the columns. I felt Stemmation, didn't do a good job, so moving forward, I'm going to go with the lemmatization column. "
   ]
  },
  {
   "cell_type": "markdown",
   "id": "ea2e472a",
   "metadata": {},
   "source": [
    "### CountVectorizer"
   ]
  },
  {
   "cell_type": "markdown",
   "id": "7cbfebc0",
   "metadata": {},
   "source": [
    "I then did a countvectorizer with the lemmatization columns and included the stop_words"
   ]
  },
  {
   "cell_type": "code",
   "execution_count": 38,
   "id": "4cf65e11",
   "metadata": {},
   "outputs": [],
   "source": [
    "cvec = CountVectorizer(stop_words = stop_words)\n",
    "cvec.fit(nvidia_amd['lemmatized'])\n",
    "cvec_train = cvec.transform(nvidia_amd['lemmatized'])\n",
    "cvec_train = pd.DataFrame(cvec_train.toarray(), columns = cvec.get_feature_names_out())\n"
   ]
  },
  {
   "cell_type": "code",
   "execution_count": 39,
   "id": "05047500",
   "metadata": {},
   "outputs": [
    {
     "data": {
      "text/html": [
       "<div>\n",
       "<style scoped>\n",
       "    .dataframe tbody tr th:only-of-type {\n",
       "        vertical-align: middle;\n",
       "    }\n",
       "\n",
       "    .dataframe tbody tr th {\n",
       "        vertical-align: top;\n",
       "    }\n",
       "\n",
       "    .dataframe thead th {\n",
       "        text-align: right;\n",
       "    }\n",
       "</style>\n",
       "<table border=\"1\" class=\"dataframe\">\n",
       "  <thead>\n",
       "    <tr style=\"text-align: right;\">\n",
       "      <th></th>\n",
       "      <th>01</th>\n",
       "      <th>0410</th>\n",
       "      <th>0611</th>\n",
       "      <th>075</th>\n",
       "      <th>099x</th>\n",
       "      <th>09x</th>\n",
       "      <th>0fps</th>\n",
       "      <th>0x116</th>\n",
       "      <th>10</th>\n",
       "      <th>100</th>\n",
       "      <th>...</th>\n",
       "      <th>z490</th>\n",
       "      <th>z77</th>\n",
       "      <th>zen</th>\n",
       "      <th>zen3</th>\n",
       "      <th>zen4</th>\n",
       "      <th>zero</th>\n",
       "      <th>zip</th>\n",
       "      <th>zipfest22</th>\n",
       "      <th>zone</th>\n",
       "      <th>zotac</th>\n",
       "    </tr>\n",
       "  </thead>\n",
       "  <tbody>\n",
       "    <tr>\n",
       "      <th>0</th>\n",
       "      <td>0</td>\n",
       "      <td>0</td>\n",
       "      <td>0</td>\n",
       "      <td>0</td>\n",
       "      <td>0</td>\n",
       "      <td>0</td>\n",
       "      <td>0</td>\n",
       "      <td>0</td>\n",
       "      <td>0</td>\n",
       "      <td>0</td>\n",
       "      <td>...</td>\n",
       "      <td>0</td>\n",
       "      <td>0</td>\n",
       "      <td>0</td>\n",
       "      <td>0</td>\n",
       "      <td>0</td>\n",
       "      <td>0</td>\n",
       "      <td>0</td>\n",
       "      <td>0</td>\n",
       "      <td>0</td>\n",
       "      <td>0</td>\n",
       "    </tr>\n",
       "    <tr>\n",
       "      <th>1</th>\n",
       "      <td>0</td>\n",
       "      <td>0</td>\n",
       "      <td>0</td>\n",
       "      <td>0</td>\n",
       "      <td>0</td>\n",
       "      <td>0</td>\n",
       "      <td>0</td>\n",
       "      <td>0</td>\n",
       "      <td>0</td>\n",
       "      <td>1</td>\n",
       "      <td>...</td>\n",
       "      <td>0</td>\n",
       "      <td>0</td>\n",
       "      <td>0</td>\n",
       "      <td>0</td>\n",
       "      <td>0</td>\n",
       "      <td>0</td>\n",
       "      <td>0</td>\n",
       "      <td>0</td>\n",
       "      <td>0</td>\n",
       "      <td>0</td>\n",
       "    </tr>\n",
       "    <tr>\n",
       "      <th>2</th>\n",
       "      <td>0</td>\n",
       "      <td>0</td>\n",
       "      <td>0</td>\n",
       "      <td>0</td>\n",
       "      <td>0</td>\n",
       "      <td>0</td>\n",
       "      <td>0</td>\n",
       "      <td>0</td>\n",
       "      <td>0</td>\n",
       "      <td>0</td>\n",
       "      <td>...</td>\n",
       "      <td>0</td>\n",
       "      <td>0</td>\n",
       "      <td>0</td>\n",
       "      <td>0</td>\n",
       "      <td>0</td>\n",
       "      <td>0</td>\n",
       "      <td>0</td>\n",
       "      <td>0</td>\n",
       "      <td>0</td>\n",
       "      <td>0</td>\n",
       "    </tr>\n",
       "    <tr>\n",
       "      <th>3</th>\n",
       "      <td>0</td>\n",
       "      <td>0</td>\n",
       "      <td>0</td>\n",
       "      <td>0</td>\n",
       "      <td>0</td>\n",
       "      <td>0</td>\n",
       "      <td>0</td>\n",
       "      <td>0</td>\n",
       "      <td>0</td>\n",
       "      <td>0</td>\n",
       "      <td>...</td>\n",
       "      <td>0</td>\n",
       "      <td>0</td>\n",
       "      <td>0</td>\n",
       "      <td>0</td>\n",
       "      <td>0</td>\n",
       "      <td>0</td>\n",
       "      <td>0</td>\n",
       "      <td>0</td>\n",
       "      <td>0</td>\n",
       "      <td>0</td>\n",
       "    </tr>\n",
       "    <tr>\n",
       "      <th>4</th>\n",
       "      <td>0</td>\n",
       "      <td>0</td>\n",
       "      <td>0</td>\n",
       "      <td>0</td>\n",
       "      <td>0</td>\n",
       "      <td>0</td>\n",
       "      <td>0</td>\n",
       "      <td>0</td>\n",
       "      <td>0</td>\n",
       "      <td>0</td>\n",
       "      <td>...</td>\n",
       "      <td>0</td>\n",
       "      <td>0</td>\n",
       "      <td>0</td>\n",
       "      <td>0</td>\n",
       "      <td>0</td>\n",
       "      <td>0</td>\n",
       "      <td>0</td>\n",
       "      <td>0</td>\n",
       "      <td>0</td>\n",
       "      <td>0</td>\n",
       "    </tr>\n",
       "    <tr>\n",
       "      <th>...</th>\n",
       "      <td>...</td>\n",
       "      <td>...</td>\n",
       "      <td>...</td>\n",
       "      <td>...</td>\n",
       "      <td>...</td>\n",
       "      <td>...</td>\n",
       "      <td>...</td>\n",
       "      <td>...</td>\n",
       "      <td>...</td>\n",
       "      <td>...</td>\n",
       "      <td>...</td>\n",
       "      <td>...</td>\n",
       "      <td>...</td>\n",
       "      <td>...</td>\n",
       "      <td>...</td>\n",
       "      <td>...</td>\n",
       "      <td>...</td>\n",
       "      <td>...</td>\n",
       "      <td>...</td>\n",
       "      <td>...</td>\n",
       "      <td>...</td>\n",
       "    </tr>\n",
       "    <tr>\n",
       "      <th>7493</th>\n",
       "      <td>0</td>\n",
       "      <td>0</td>\n",
       "      <td>0</td>\n",
       "      <td>0</td>\n",
       "      <td>0</td>\n",
       "      <td>0</td>\n",
       "      <td>0</td>\n",
       "      <td>0</td>\n",
       "      <td>0</td>\n",
       "      <td>0</td>\n",
       "      <td>...</td>\n",
       "      <td>0</td>\n",
       "      <td>0</td>\n",
       "      <td>0</td>\n",
       "      <td>0</td>\n",
       "      <td>0</td>\n",
       "      <td>0</td>\n",
       "      <td>0</td>\n",
       "      <td>0</td>\n",
       "      <td>0</td>\n",
       "      <td>0</td>\n",
       "    </tr>\n",
       "    <tr>\n",
       "      <th>7494</th>\n",
       "      <td>0</td>\n",
       "      <td>0</td>\n",
       "      <td>0</td>\n",
       "      <td>0</td>\n",
       "      <td>0</td>\n",
       "      <td>0</td>\n",
       "      <td>0</td>\n",
       "      <td>0</td>\n",
       "      <td>0</td>\n",
       "      <td>0</td>\n",
       "      <td>...</td>\n",
       "      <td>0</td>\n",
       "      <td>0</td>\n",
       "      <td>0</td>\n",
       "      <td>0</td>\n",
       "      <td>0</td>\n",
       "      <td>0</td>\n",
       "      <td>0</td>\n",
       "      <td>0</td>\n",
       "      <td>0</td>\n",
       "      <td>0</td>\n",
       "    </tr>\n",
       "    <tr>\n",
       "      <th>7495</th>\n",
       "      <td>0</td>\n",
       "      <td>0</td>\n",
       "      <td>0</td>\n",
       "      <td>0</td>\n",
       "      <td>0</td>\n",
       "      <td>0</td>\n",
       "      <td>0</td>\n",
       "      <td>0</td>\n",
       "      <td>0</td>\n",
       "      <td>0</td>\n",
       "      <td>...</td>\n",
       "      <td>0</td>\n",
       "      <td>0</td>\n",
       "      <td>0</td>\n",
       "      <td>0</td>\n",
       "      <td>0</td>\n",
       "      <td>0</td>\n",
       "      <td>0</td>\n",
       "      <td>0</td>\n",
       "      <td>0</td>\n",
       "      <td>0</td>\n",
       "    </tr>\n",
       "    <tr>\n",
       "      <th>7496</th>\n",
       "      <td>0</td>\n",
       "      <td>0</td>\n",
       "      <td>0</td>\n",
       "      <td>0</td>\n",
       "      <td>0</td>\n",
       "      <td>0</td>\n",
       "      <td>0</td>\n",
       "      <td>0</td>\n",
       "      <td>0</td>\n",
       "      <td>0</td>\n",
       "      <td>...</td>\n",
       "      <td>0</td>\n",
       "      <td>0</td>\n",
       "      <td>0</td>\n",
       "      <td>0</td>\n",
       "      <td>0</td>\n",
       "      <td>0</td>\n",
       "      <td>0</td>\n",
       "      <td>0</td>\n",
       "      <td>0</td>\n",
       "      <td>0</td>\n",
       "    </tr>\n",
       "    <tr>\n",
       "      <th>7497</th>\n",
       "      <td>0</td>\n",
       "      <td>0</td>\n",
       "      <td>0</td>\n",
       "      <td>0</td>\n",
       "      <td>0</td>\n",
       "      <td>0</td>\n",
       "      <td>0</td>\n",
       "      <td>0</td>\n",
       "      <td>0</td>\n",
       "      <td>0</td>\n",
       "      <td>...</td>\n",
       "      <td>0</td>\n",
       "      <td>0</td>\n",
       "      <td>0</td>\n",
       "      <td>0</td>\n",
       "      <td>0</td>\n",
       "      <td>0</td>\n",
       "      <td>0</td>\n",
       "      <td>0</td>\n",
       "      <td>0</td>\n",
       "      <td>0</td>\n",
       "    </tr>\n",
       "  </tbody>\n",
       "</table>\n",
       "<p>7498 rows × 3425 columns</p>\n",
       "</div>"
      ],
      "text/plain": [
       "      01  0410  0611  075  099x  09x  0fps  0x116  10  100  ...  z490  z77  \\\n",
       "0      0     0     0    0     0    0     0      0   0    0  ...     0    0   \n",
       "1      0     0     0    0     0    0     0      0   0    1  ...     0    0   \n",
       "2      0     0     0    0     0    0     0      0   0    0  ...     0    0   \n",
       "3      0     0     0    0     0    0     0      0   0    0  ...     0    0   \n",
       "4      0     0     0    0     0    0     0      0   0    0  ...     0    0   \n",
       "...   ..   ...   ...  ...   ...  ...   ...    ...  ..  ...  ...   ...  ...   \n",
       "7493   0     0     0    0     0    0     0      0   0    0  ...     0    0   \n",
       "7494   0     0     0    0     0    0     0      0   0    0  ...     0    0   \n",
       "7495   0     0     0    0     0    0     0      0   0    0  ...     0    0   \n",
       "7496   0     0     0    0     0    0     0      0   0    0  ...     0    0   \n",
       "7497   0     0     0    0     0    0     0      0   0    0  ...     0    0   \n",
       "\n",
       "      zen  zen3  zen4  zero  zip  zipfest22  zone  zotac  \n",
       "0       0     0     0     0    0          0     0      0  \n",
       "1       0     0     0     0    0          0     0      0  \n",
       "2       0     0     0     0    0          0     0      0  \n",
       "3       0     0     0     0    0          0     0      0  \n",
       "4       0     0     0     0    0          0     0      0  \n",
       "...   ...   ...   ...   ...  ...        ...   ...    ...  \n",
       "7493    0     0     0     0    0          0     0      0  \n",
       "7494    0     0     0     0    0          0     0      0  \n",
       "7495    0     0     0     0    0          0     0      0  \n",
       "7496    0     0     0     0    0          0     0      0  \n",
       "7497    0     0     0     0    0          0     0      0  \n",
       "\n",
       "[7498 rows x 3425 columns]"
      ]
     },
     "execution_count": 39,
     "metadata": {},
     "output_type": "execute_result"
    }
   ],
   "source": [
    "cvec_train"
   ]
  },
  {
   "cell_type": "markdown",
   "id": "790e2a7c",
   "metadata": {},
   "source": [
    "I then made a chart to look at the top 15 most common words for both of the subreddits. "
   ]
  },
  {
   "cell_type": "code",
   "execution_count": 40,
   "id": "352b4889",
   "metadata": {
    "scrolled": true
   },
   "outputs": [
    {
     "data": {
      "image/png": "[encoded data removed]",
      "text/plain": [
       "<Figure size 720x720 with 1 Axes>"
      ]
     },
     "metadata": {
      "needs_background": "light"
     },
     "output_type": "display_data"
    }
   ],
   "source": [
    "plt.figure(figsize = (10,10))\n",
    "cvec_train.sum().sort_values(ascending = False).head(15).plot(kind = 'barh')\n",
    "plt.title('the top 15 most common words for both subreddits from CVEC')\n",
    "plt.xlabel('Number of times the word is present')\n",
    "plt.ylabel('15 most common words'); "
   ]
  },
  {
   "cell_type": "markdown",
   "id": "80d4e7e4",
   "metadata": {},
   "source": [
    "I then did a countvectorizer for nvidia and graphed to see the common words in this subreddit"
   ]
  },
  {
   "cell_type": "code",
   "execution_count": 41,
   "id": "0197362f",
   "metadata": {},
   "outputs": [],
   "source": [
    "cvec = CountVectorizer(stop_words = stop_words)\n",
    "cvec.fit(nvidia_df['title'])\n",
    "cvec_nvidia = cvec.transform(nvidia_df['title'])\n",
    "cvec_nvidia = pd.DataFrame(cvec_nvidia.toarray(), columns = cvec.get_feature_names_out())"
   ]
  },
  {
   "cell_type": "markdown",
   "id": "8dc71127",
   "metadata": {},
   "source": [
    "From the plot, we can see that nvidia and rtx were the most common words in the subreddit which were rtx and 4090."
   ]
  },
  {
   "cell_type": "code",
   "execution_count": 42,
   "id": "7214fc9e",
   "metadata": {},
   "outputs": [
    {
     "data": {
      "image/png": "[encoded data removed]",
      "text/plain": [
       "<Figure size 720x720 with 1 Axes>"
      ]
     },
     "metadata": {
      "needs_background": "light"
     },
     "output_type": "display_data"
    }
   ],
   "source": [
    "plt.figure(figsize = (10,10))\n",
    "cvec_nvidia.sum().sort_values(ascending = False).head(15).plot(kind = 'barh')\n",
    "plt.title('the top 15 most common words for nvidia from CVEC')\n",
    "plt.xlabel('Number of times the word is present')\n",
    "plt.ylabel('15 most common words'); "
   ]
  },
  {
   "cell_type": "markdown",
   "id": "4d93b04c",
   "metadata": {},
   "source": [
    "I then did a countvectorizer on the amd dataset to see the most common words"
   ]
  },
  {
   "cell_type": "code",
   "execution_count": 43,
   "id": "b69ad19c",
   "metadata": {
    "scrolled": false
   },
   "outputs": [],
   "source": [
    "cvec = CountVectorizer(stop_words = stop_words)\n",
    "cvec.fit(amd_df['title'])\n",
    "cvec_amd = cvec.transform(amd_df['title'])\n",
    "cvec_amd = pd.DataFrame(cvec_amd.toarray(), columns = cvec.get_feature_names_out())"
   ]
  },
  {
   "cell_type": "markdown",
   "id": "565aff6d",
   "metadata": {},
   "source": [
    "The most common words in this plot for amd was ryzen and 7950x"
   ]
  },
  {
   "cell_type": "code",
   "execution_count": 44,
   "id": "75ea508c",
   "metadata": {},
   "outputs": [
    {
     "data": {
      "image/png": "[encoded data removed]",
      "text/plain": [
       "<Figure size 720x720 with 1 Axes>"
      ]
     },
     "metadata": {
      "needs_background": "light"
     },
     "output_type": "display_data"
    }
   ],
   "source": [
    "plt.figure(figsize = (10,10))\n",
    "cvec_amd.sum().sort_values(ascending = False).head(15).plot(kind = 'barh')\n",
    "plt.title('the top 15 most common words for amd from CVEC')\n",
    "plt.xlabel('Number of times the word is present')\n",
    "plt.ylabel('15 most common words'); "
   ]
  },
  {
   "cell_type": "markdown",
   "id": "9fc105b1",
   "metadata": {},
   "source": [
    "### TfidfVectorizer"
   ]
  },
  {
   "cell_type": "markdown",
   "id": "4bbd9ae6",
   "metadata": {},
   "source": [
    "I then did a TfidfVectorizer onboth subreddits combined in the lemmatized form"
   ]
  },
  {
   "cell_type": "code",
   "execution_count": 45,
   "id": "bff2e371",
   "metadata": {
    "scrolled": true
   },
   "outputs": [],
   "source": [
    "tvec = TfidfVectorizer(stop_words = stop_words)\n",
    "tvec_nvidia_amd = tvec.fit_transform(nvidia_amd['lemmatized'])\n",
    "tvec_nvidia_amd = pd.DataFrame(tvec_nvidia_amd.toarray(), columns = tvec.get_feature_names_out())"
   ]
  },
  {
   "cell_type": "markdown",
   "id": "77a31b5c",
   "metadata": {},
   "source": [
    "I then made a graph to look at the top 15 most common words for both subreddits. When it comes to the most common words, they were rtx, gpu, and ryzen. "
   ]
  },
  {
   "cell_type": "code",
   "execution_count": 46,
   "id": "f778c423",
   "metadata": {
    "scrolled": true
   },
   "outputs": [
    {
     "data": {
      "image/png": "[encoded data removed]",
      "text/plain": [
       "<Figure size 720x720 with 1 Axes>"
      ]
     },
     "metadata": {
      "needs_background": "light"
     },
     "output_type": "display_data"
    }
   ],
   "source": [
    "plt.figure(figsize = (10,10))\n",
    "tvec_nvidia_amd.sum().sort_values(ascending = False).head(15).plot(kind = 'barh')\n",
    "plt.title('the top 15 most common words for both subreddits from TVEC')\n",
    "plt.xlabel('15 most common words')\n",
    "plt.ylabel('Number of times the word is present');"
   ]
  },
  {
   "cell_type": "markdown",
   "id": "aedd897c",
   "metadata": {},
   "source": [
    "I then did a TfidfVectorizer for the nvidia subreddit"
   ]
  },
  {
   "cell_type": "code",
   "execution_count": 47,
   "id": "6fdbbbb3",
   "metadata": {
    "scrolled": true
   },
   "outputs": [],
   "source": [
    "tvec = TfidfVectorizer(stop_words = stop_words)\n",
    "tvec_nvidia = tvec.fit_transform(nvidia_df['title'])\n",
    "tvec_nvidia = pd.DataFrame(tvec_nvidia.toarray(), columns = tvec.get_feature_names_out())"
   ]
  },
  {
   "cell_type": "markdown",
   "id": "48c9dff7",
   "metadata": {},
   "source": [
    "I then made a graph to look at the top 15 most common words for the nvidia reddit. As presented from the graph, the most common words seem to be rtx and 4090. "
   ]
  },
  {
   "cell_type": "code",
   "execution_count": 48,
   "id": "e83723d0",
   "metadata": {
    "scrolled": false
   },
   "outputs": [
    {
     "data": {
      "image/png": "[encoded data removed]",
      "text/plain": [
       "<Figure size 720x720 with 1 Axes>"
      ]
     },
     "metadata": {
      "needs_background": "light"
     },
     "output_type": "display_data"
    }
   ],
   "source": [
    "plt.figure(figsize = (10,10))\n",
    "tvec_nvidia.sum().sort_values(ascending = False).head(15).plot(kind = 'barh')\n",
    "plt.title('the top 15 most common words for Nvidia from TVEC')\n",
    "plt.xlabel('15 most common words')\n",
    "plt.ylabel('Number of times the word is present');"
   ]
  },
  {
   "cell_type": "markdown",
   "id": "902c1b0e",
   "metadata": {},
   "source": [
    "I then did a TfidfVectorizer for the amd subreddit"
   ]
  },
  {
   "cell_type": "code",
   "execution_count": 49,
   "id": "08f20667",
   "metadata": {
    "scrolled": false
   },
   "outputs": [],
   "source": [
    "tvec = TfidfVectorizer(stop_words = stop_words)\n",
    "tvec_amd = tvec.fit_transform(amd_df['title'])\n",
    "tvec_amd = pd.DataFrame(tvec_amd.toarray(), columns = tvec.get_feature_names_out())"
   ]
  },
  {
   "cell_type": "markdown",
   "id": "8bd6b760",
   "metadata": {},
   "source": [
    "I then made a graph to look at the top 15 most common words for the amd reddit. As presented from the graph, the most common words seem to be ryzen and 5800x3d."
   ]
  },
  {
   "cell_type": "code",
   "execution_count": 50,
   "id": "2c439285",
   "metadata": {},
   "outputs": [
    {
     "data": {
      "image/png": "[encoded data removed]",
      "text/plain": [
       "<Figure size 720x720 with 1 Axes>"
      ]
     },
     "metadata": {
      "needs_background": "light"
     },
     "output_type": "display_data"
    }
   ],
   "source": [
    "plt.figure(figsize = (10,10))\n",
    "tvec_amd.sum().sort_values(ascending = False).head(15).plot(kind = 'barh')\n",
    "plt.title('the top 15 most common words for Amd from TVEC')\n",
    "plt.xlabel('15 most common words')\n",
    "plt.ylabel('Number of times the word is present');"
   ]
  },
  {
   "cell_type": "markdown",
   "id": "e24aa299",
   "metadata": {},
   "source": [
    "### Train/Test/Split"
   ]
  },
  {
   "cell_type": "markdown",
   "id": "12d24834",
   "metadata": {},
   "source": [
    "I began modeling the data by doing a train test split with the the X being the lemmatized columns and the y being the subreddit"
   ]
  },
  {
   "cell_type": "code",
   "execution_count": 51,
   "id": "cb9698f9",
   "metadata": {},
   "outputs": [],
   "source": [
    "X = nvidia_amd['lemmatized']\n",
    "y = nvidia_amd['subreddit']\n",
    "\n",
    "X_train, X_val,y_train, y_val = train_test_split(X,y, test_size = 0.35, random_state = 42, stratify = y) "
   ]
  },
  {
   "cell_type": "markdown",
   "id": "bcc97f2e",
   "metadata": {},
   "source": [
    "I wanted to see the X_val shape to make sure my confusion matrix adds up to 2625."
   ]
  },
  {
   "cell_type": "code",
   "execution_count": 52,
   "id": "559a33da",
   "metadata": {
    "scrolled": true
   },
   "outputs": [
    {
     "data": {
      "text/plain": [
       "(2625,)"
      ]
     },
     "execution_count": 52,
     "metadata": {},
     "output_type": "execute_result"
    }
   ],
   "source": [
    "X_val.shape"
   ]
  },
  {
   "cell_type": "markdown",
   "id": "2b09bfdd",
   "metadata": {},
   "source": [
    "### Baseline Model"
   ]
  },
  {
   "cell_type": "markdown",
   "id": "6a7695e0",
   "metadata": {},
   "source": [
    "As presented from the y_val we see that nvidia is 0.61 when compared to amd 0.389, our goal is to be able to beat this basline model and be able to make a better model. "
   ]
  },
  {
   "cell_type": "code",
   "execution_count": 53,
   "id": "d6218915",
   "metadata": {
    "scrolled": true
   },
   "outputs": [
    {
     "data": {
      "text/plain": [
       "nvidia    0.610667\n",
       "Amd       0.389333\n",
       "Name: subreddit, dtype: float64"
      ]
     },
     "execution_count": 53,
     "metadata": {},
     "output_type": "execute_result"
    }
   ],
   "source": [
    "y_val.value_counts(normalize = True)"
   ]
  },
  {
   "cell_type": "code",
   "execution_count": 54,
   "id": "d5cef90c",
   "metadata": {},
   "outputs": [
    {
     "data": {
      "text/plain": [
       "nvidia    1603\n",
       "Amd       1022\n",
       "Name: subreddit, dtype: int64"
      ]
     },
     "execution_count": 54,
     "metadata": {},
     "output_type": "execute_result"
    }
   ],
   "source": [
    "y_val.value_counts()"
   ]
  },
  {
   "cell_type": "markdown",
   "id": "0f6a06b6",
   "metadata": {},
   "source": [
    "### Model"
   ]
  },
  {
   "cell_type": "markdown",
   "id": "1809cf03",
   "metadata": {},
   "source": [
    "I began the modeling data by looking at CountVectorizer and looking at 3 different models which include Randomforest, Decision Tree, Logistic Regression. I kept the parameters for CVEC or CountVectorizer the same for each one of them to see how they change."
   ]
  },
  {
   "cell_type": "markdown",
   "id": "3330e7eb",
   "metadata": {},
   "source": [
    "### Random Forest Classifier"
   ]
  },
  {
   "cell_type": "markdown",
   "id": "6a5c9826",
   "metadata": {},
   "source": [
    "I began by looking at countvectorizer and randomforest classifier and put a random state of 42."
   ]
  },
  {
   "cell_type": "code",
   "execution_count": 55,
   "id": "9465fccd",
   "metadata": {},
   "outputs": [],
   "source": [
    "cvrf_pipe = Pipeline([\n",
    "    ('cvec', CountVectorizer()),\n",
    "    ('rf', RandomForestClassifier(random_state=42)),\n",
    "])"
   ]
  },
  {
   "cell_type": "markdown",
   "id": "415e74d8",
   "metadata": {},
   "source": [
    "Below are the paramters I used, I included max features, min df, max df, and ngram range for all of them"
   ]
  },
  {
   "cell_type": "code",
   "execution_count": 56,
   "id": "02916180",
   "metadata": {},
   "outputs": [],
   "source": [
    "rfpipe_params = {\n",
    "   'cvec__max_features' : [100,200,300,1000,10000],\n",
    "    'cvec__min_df': [1,3,5,7],\n",
    "    'cvec__max_df': [0.9, 0.95, 1.0],\n",
    "    'cvec__ngram_range': [(1,1),(1,2)]\n",
    "}"
   ]
  },
  {
   "cell_type": "markdown",
   "id": "5cafb300",
   "metadata": {},
   "source": [
    "I then did a gridsearch for both the pipeline and parameters, fitted the model, then looked for the best score, the best params, and then printed out the scores for the training and testing sets. The scores were 1.0 and 0.9988, this indicates very high scores and there is no overfitting and underfitting."
   ]
  },
  {
   "cell_type": "code",
   "execution_count": 57,
   "id": "96588693",
   "metadata": {},
   "outputs": [
    {
     "name": "stdout",
     "output_type": "stream",
     "text": [
      "Fitting 5 folds for each of 120 candidates, totalling 600 fits\n",
      "1.0\n",
      "{'cvec__max_df': 0.9, 'cvec__max_features': 1000, 'cvec__min_df': 1, 'cvec__ngram_range': (1, 1)}\n",
      "gs score for training set: 1.0\n",
      "gs score for training set: 0.9988571428571429\n"
     ]
    }
   ],
   "source": [
    "gs_1 = GridSearchCV(cvrf_pipe, rfpipe_params, cv =5, verbose = 1, n_jobs = -1)\n",
    "\n",
    "gs_1.fit(X_train, y_train)\n",
    "print(gs_1.best_score_)\n",
    "print(gs_1.best_params_)\n",
    "print(f'gs score for training set: {gs_1.score(X_train, y_train)}')\n",
    "print(f'gs score for training set: {gs_1.score(X_val, y_val)}')"
   ]
  },
  {
   "cell_type": "markdown",
   "id": "749386cb",
   "metadata": {},
   "source": [
    "I then made a confusion matrix to look at the true negatives, true positives, false positives, and false negatives. "
   ]
  },
  {
   "cell_type": "code",
   "execution_count": 59,
   "id": "9efaefe9",
   "metadata": {
    "scrolled": true
   },
   "outputs": [],
   "source": [
    "pred = gs_1.predict(X_val)\n",
    "tn, fp, fn, tp = confusion_matrix(y_val, pred).ravel()"
   ]
  },
  {
   "cell_type": "markdown",
   "id": "3885bf75",
   "metadata": {},
   "source": [
    "From the plot, we can see that the true negative was 1019 for AMD and the true positive was 1603. The false posiitve was 3 and the false negative was 0. As a result, this model did a good job of categorizing the true negative and the true positive, but there were still three that were in the false posiitve group. "
   ]
  },
  {
   "cell_type": "code",
   "execution_count": 71,
   "id": "24fcb430",
   "metadata": {
    "scrolled": true
   },
   "outputs": [
    {
     "data": {
      "image/png": "[encoded data removed]",
      "text/plain": [
       "<Figure size 432x288 with 2 Axes>"
      ]
     },
     "metadata": {
      "needs_background": "light"
     },
     "output_type": "display_data"
    }
   ],
   "source": [
    "ConfusionMatrixDisplay.from_estimator(gs_1, X_val, y_val)\n",
    "plt.title('Random Forest Confusion Matrix');"
   ]
  },
  {
   "cell_type": "markdown",
   "id": "9d5c919f",
   "metadata": {},
   "source": [
    "### Decision Tree"
   ]
  },
  {
   "cell_type": "markdown",
   "id": "c3cbed6e",
   "metadata": {},
   "source": [
    "I then made a pipeline for CountVectorizer and Decision Tree. "
   ]
  },
  {
   "cell_type": "code",
   "execution_count": 61,
   "id": "6088fb43",
   "metadata": {},
   "outputs": [],
   "source": [
    "cvdc_pipe = Pipeline([\n",
    "    ('cvec', CountVectorizer()),\n",
    "    ('dc', DecisionTreeClassifier( random_state = 42)),\n",
    "])"
   ]
  },
  {
   "cell_type": "markdown",
   "id": "4d21275b",
   "metadata": {},
   "source": [
    "I kept similar parameters for decision tree and randomforest. "
   ]
  },
  {
   "cell_type": "code",
   "execution_count": 62,
   "id": "7832aa8f",
   "metadata": {},
   "outputs": [],
   "source": [
    "cvdcpipe_params = {\n",
    "    'cvec__max_features' : [100,200,300,1000,10000],\n",
    "    'cvec__min_df': [1,3,5,7],\n",
    "    'cvec__max_df': [0.9, 0.95, 1.0],\n",
    "    'cvec__ngram_range': [(1,1),(1,2)]\n",
    "}"
   ]
  },
  {
   "cell_type": "markdown",
   "id": "ec00ee52",
   "metadata": {},
   "source": [
    "I then made a gridsearch for the parameters and pipeline. I looked at the best score and the best params for it. Also looked at the train and test score from it we got 1.0 for the training and 0.9988 for the test score. These are really good results as we can see that its able to fit and score well. There is no overfit or underfit from what we can see. "
   ]
  },
  {
   "cell_type": "code",
   "execution_count": 63,
   "id": "58b18f08",
   "metadata": {},
   "outputs": [
    {
     "name": "stdout",
     "output_type": "stream",
     "text": [
      "Fitting 5 folds for each of 120 candidates, totalling 600 fits\n",
      "0.999794661190965\n",
      "{'cvec__max_df': 0.9, 'cvec__max_features': 1000, 'cvec__min_df': 1, 'cvec__ngram_range': (1, 1)}\n",
      "gs score for training set: 1.0\n",
      "gs score for training set: 0.9988571428571429\n"
     ]
    }
   ],
   "source": [
    "gs_2 = GridSearchCV(cvdc_pipe, cvdcpipe_params, cv =5, verbose = 1, n_jobs = -1)\n",
    "\n",
    "gs_2.fit(X_train, y_train)\n",
    "print(gs_2.best_score_)\n",
    "print(gs_2.best_params_)\n",
    "print(f'gs score for training set: {gs_2.score(X_train, y_train)}')\n",
    "print(f'gs score for training set: {gs_2.score(X_val, y_val)}')"
   ]
  },
  {
   "cell_type": "markdown",
   "id": "dfe0c3ed",
   "metadata": {},
   "source": [
    "I then made a confusion matrix and saw similar results when it came to the randomforest in which the values are similar. The plot below shows true negative, false posiitve, false negative, and true positive. As we can see AMD had 1019 and nvidia had 1603. It seems there were three that were false posiitve."
   ]
  },
  {
   "cell_type": "code",
   "execution_count": 65,
   "id": "9ce6f90d",
   "metadata": {},
   "outputs": [
    {
     "data": {
      "image/png": "[encoded data removed]",
      "text/plain": [
       "<Figure size 432x288 with 2 Axes>"
      ]
     },
     "metadata": {
      "needs_background": "light"
     },
     "output_type": "display_data"
    }
   ],
   "source": [
    "pred = gs_2.predict(X_val)\n",
    "tn, fp, fn, tp = confusion_matrix(y_val, pred).ravel()\n",
    "ConfusionMatrixDisplay.from_estimator(gs_2, X_val, y_val);\n",
    "plt.title('Decision Tree Confusion Matrix');"
   ]
  },
  {
   "cell_type": "markdown",
   "id": "90285674",
   "metadata": {},
   "source": [
    "### Logistic Regression"
   ]
  },
  {
   "cell_type": "markdown",
   "id": "bc68a725",
   "metadata": {},
   "source": [
    "I then made a pipeline for CountVectorizer and Logistic Regression "
   ]
  },
  {
   "cell_type": "code",
   "execution_count": 66,
   "id": "5df3d3c6",
   "metadata": {},
   "outputs": [],
   "source": [
    "cvlr_pipe = Pipeline([\n",
    "    ('cvec', CountVectorizer()),\n",
    "    ('lr', LogisticRegression()),\n",
    "])"
   ]
  },
  {
   "cell_type": "markdown",
   "id": "9ba0e296",
   "metadata": {},
   "source": [
    "I then kept similar params to see how it would affect the training and testing score. "
   ]
  },
  {
   "cell_type": "code",
   "execution_count": 67,
   "id": "ac98484a",
   "metadata": {},
   "outputs": [],
   "source": [
    "cvlrpipe_params = {\n",
    "    'cvec__max_features' : [100,200,300,1000,10000],\n",
    "    'cvec__min_df': [1,3,5,7],\n",
    "    'cvec__max_df': [0.9, 0.95, 1.0],\n",
    "    'cvec__ngram_range': [(1,1),(1,2)]\n",
    "}"
   ]
  },
  {
   "cell_type": "markdown",
   "id": "2ab50551",
   "metadata": {},
   "source": [
    "I Made a gridsearch for the pipeline and for the parameters. I looked at the best score and best params for this pipeline and then looked at the training and testing score. In this one, we can see that the score for the training set was 1.0 and the testing score was 1.0. This did better than both the randomforest and the decision tree Classifier."
   ]
  },
  {
   "cell_type": "code",
   "execution_count": 68,
   "id": "06ec36a2",
   "metadata": {},
   "outputs": [
    {
     "name": "stdout",
     "output_type": "stream",
     "text": [
      "Fitting 5 folds for each of 120 candidates, totalling 600 fits\n",
      "0.9997948717948718\n",
      "{'cvec__max_df': 0.9, 'cvec__max_features': 1000, 'cvec__min_df': 1, 'cvec__ngram_range': (1, 1)}\n",
      "gs score for training set: 1.0\n",
      "gs score for testing set: 1.0\n"
     ]
    }
   ],
   "source": [
    "gs_3 = GridSearchCV(cvlr_pipe, cvlrpipe_params, cv =5, verbose = 1, n_jobs = -1)\n",
    "\n",
    "gs_3.fit(X_train, y_train)\n",
    "print(gs_3.best_score_)\n",
    "print(gs_3.best_params_)\n",
    "print(f'gs score for training set: {gs_3.score(X_train, y_train)}')\n",
    "print(f'gs score for testing set: {gs_3.score(X_val, y_val)}')"
   ]
  },
  {
   "cell_type": "markdown",
   "id": "ca65ec4d",
   "metadata": {},
   "source": [
    "I then made a confusion matrix to find that there were no false positives or false negatives from this model"
   ]
  },
  {
   "cell_type": "code",
   "execution_count": 69,
   "id": "cedbf836",
   "metadata": {},
   "outputs": [],
   "source": [
    "pred = gs_3.predict(X_val)\n",
    "tn, fp, fn, tp = confusion_matrix(y_val, pred).ravel()"
   ]
  },
  {
   "cell_type": "markdown",
   "id": "1e746438",
   "metadata": {},
   "source": [
    "The plot below shows true negative, false posiitve, false negative, and true positive. As we can see AMD had 1022 and nvidia had 1603. There were no false positives or false negatives as we can see from the confusion matrix."
   ]
  },
  {
   "cell_type": "code",
   "execution_count": 70,
   "id": "c5592367",
   "metadata": {
    "scrolled": true
   },
   "outputs": [
    {
     "data": {
      "image/png": "[encoded data removed]",
      "text/plain": [
       "<Figure size 432x288 with 2 Axes>"
      ]
     },
     "metadata": {
      "needs_background": "light"
     },
     "output_type": "display_data"
    }
   ],
   "source": [
    "ConfusionMatrixDisplay.from_estimator(gs_3, X_val, y_val)\n",
    "plt.title('Logistic Regression Confusion Matrix');"
   ]
  },
  {
   "cell_type": "markdown",
   "id": "03a3d0e6",
   "metadata": {},
   "source": [
    "# Conclusion"
   ]
  },
  {
   "cell_type": "markdown",
   "id": "bf349151",
   "metadata": {},
   "source": [
    "From the three models that were presented above with countvectorizer, it can be seen that the logistic regression with countvectozier did the best. This can be seen from the fact that we ended up with no false positive or false negatives. In this model, we saw that there were 2,625 in total of true posiitve and true negative categories. The best parameters for logistic regression was max_df of 0.9, max_features of 1000, mind_df of 1, and ngram range of (1,1) When comparing that to randomforest and Decisiontree, they both came out with similar results, but were lower than Logistic Regression. They did have the same parameters as logistic regression. As it can be seen from the gs score for both of them. They had a training score of 1 and a testing score of .9988. These also portrayed really good models at the end in which only 3 were found in the false positive group. Overall, all three models did better than the baseline. Even though the data and models are showing good results, there needs to be a consideration on why the model is doing so well. From what can be seen, it seems that the two subreddits are very similar when it comes to what the companies do and what they are providing. In my further steps, I will need to look into more indept the similarities in words that exist between the two companies. Even though the model did a great job when it came to these two subreddits, it needs to be checked thorougly for other subreddits.  "
   ]
  }
 ],
 "metadata": {
  "kernelspec": {
   "display_name": "Python 3 (ipykernel)",
   "language": "python",
   "name": "python3"
  },
  "language_info": {
   "codemirror_mode": {
    "name": "ipython",
    "version": 3
   },
   "file_extension": ".py",
   "mimetype": "text/x-python",
   "name": "python",
   "nbconvert_exporter": "python",
   "pygments_lexer": "ipython3",
   "version": "3.9.12"
  }
 },
 "nbformat": 4,
 "nbformat_minor": 5
}
